{
 "cells": [
  {
   "cell_type": "code",
   "execution_count": 1,
   "metadata": {
    "collapsed": true
   },
   "outputs": [],
   "source": [
    "%matplotlib inline\n",
    "import matplotlib.pyplot as plt\n",
    "import numpy as np\n",
    "from pandas import Series, DataFrame\n",
    "import pandas as pd\n",
    "import utm"
   ]
  },
  {
   "cell_type": "code",
   "execution_count": 2,
   "metadata": {
    "collapsed": false
   },
   "outputs": [
    {
     "name": "stdout",
     "output_type": "stream",
     "text": [
      "192\n"
     ]
    }
   ],
   "source": [
    "filename='ggd605_scheff_location_data.csv'\n",
    "df= pd.read_csv(filename)\n",
    "# https://pypi.python.org/pypi/utm\n",
    "utm_E=Series(df.ix[:,4]).values\n",
    "utm_N=Series(df.ix[:,5]).values\n",
    "n=len(utm_E)\n",
    "print n\n",
    "lons=[0 for x in range(n)]\n",
    "lats=[0 for x in range(n)]\n",
    "for i in range(n):\n",
    "    [lats[i],lons[i]]=utm.to_latlon(utm_E[i], utm_N[i], 19, 'U')"
   ]
  },
  {
   "cell_type": "code",
   "execution_count": 3,
   "metadata": {
    "collapsed": false
   },
   "outputs": [
    {
     "name": "stdout",
     "output_type": "stream",
     "text": [
      "768\n",
      "(192, 4)\n"
     ]
    }
   ],
   "source": [
    "d= np.concatenate((utm_E, utm_N, lats, lons))\n",
    "n=np.size(d)\n",
    "print n\n",
    "d= d.reshape(n/192,n/4).transpose()\n",
    "print np.shape(d)\n",
    "np.savetxt('utm2latlon_ggd605_scheff_location_data.txt', d, fmt='%5.2f %5.2f %5.15f %5.15f',delimiter='\\t') "
   ]
  },
  {
   "cell_type": "code",
   "execution_count": null,
   "metadata": {
    "collapsed": true
   },
   "outputs": [],
   "source": []
  }
 ],
 "metadata": {
  "kernelspec": {
   "display_name": "Python 2",
   "language": "python",
   "name": "python2"
  },
  "language_info": {
   "codemirror_mode": {
    "name": "ipython",
    "version": 2
   },
   "file_extension": ".py",
   "mimetype": "text/x-python",
   "name": "python",
   "nbconvert_exporter": "python",
   "pygments_lexer": "ipython2",
   "version": "2.7.10"
  }
 },
 "nbformat": 4,
 "nbformat_minor": 0
}
